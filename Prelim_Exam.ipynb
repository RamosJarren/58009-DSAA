{
  "nbformat": 4,
  "nbformat_minor": 0,
  "metadata": {
    "colab": {
      "provenance": [],
      "authorship_tag": "ABX9TyNg4ZYME7fTw4pjufLWDKbM",
      "include_colab_link": true
    },
    "kernelspec": {
      "name": "python3",
      "display_name": "Python 3"
    },
    "language_info": {
      "name": "python"
    }
  },
  "cells": [
    {
      "cell_type": "markdown",
      "metadata": {
        "id": "view-in-github",
        "colab_type": "text"
      },
      "source": [
        "<a href=\"https://colab.research.google.com/github/RamosJarren/58009-DSAA/blob/main/Prelim_Exam.ipynb\" target=\"_parent\"><img src=\"https://colab.research.google.com/assets/colab-badge.svg\" alt=\"Open In Colab\"/></a>"
      ]
    },
    {
      "cell_type": "markdown",
      "source": [
        "Open your Python (Pycharm or Colab) or Dev C++ to create the source code for adding the test scores 26, 49, 98, 87, 62, 75 (30 points)\n",
        "Create a program to sort the test scores in ascending order (20 points)"
      ],
      "metadata": {
        "id": "cq-yUkcn5l7d"
      }
    },
    {
      "cell_type": "code",
      "source": [
        "import numpy\n",
        "\n",
        "testScores = [26, 49, 98, 87, 62, 75]\n",
        "print(\"The test scores are:\\n\", testScores)\n",
        "print(\"The summation of test scores is:\\n\", numpy.sum(testScores))\n",
        "print(\"The test scores in ascending order are:\\n\", numpy.sort(testScores))"
      ],
      "metadata": {
        "colab": {
          "base_uri": "https://localhost:8080/"
        },
        "id": "teflLLJX5oZM",
        "outputId": "cddd2b0f-2c53-47a4-e9a9-9196b23b9b42"
      },
      "execution_count": 11,
      "outputs": [
        {
          "output_type": "stream",
          "name": "stdout",
          "text": [
            "The test scores are:\n",
            " [26, 49, 98, 87, 62, 75]\n",
            "The summation of test scores is:\n",
            " 397\n",
            "The test scores in ascending order are:\n",
            " [26 49 62 75 87 98]\n"
          ]
        }
      ]
    }
  ]
}