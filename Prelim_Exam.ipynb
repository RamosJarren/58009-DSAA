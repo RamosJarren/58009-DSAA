{
  "nbformat": 4,
  "nbformat_minor": 0,
  "metadata": {
    "colab": {
      "provenance": [],
      "authorship_tag": "ABX9TyP2hsU5/jDdGThsBQW0T0do",
      "include_colab_link": true
    },
    "kernelspec": {
      "name": "python3",
      "display_name": "Python 3"
    },
    "language_info": {
      "name": "python"
    }
  },
  "cells": [
    {
      "cell_type": "markdown",
      "metadata": {
        "id": "view-in-github",
        "colab_type": "text"
      },
      "source": [
        "<a href=\"https://colab.research.google.com/github/RamosJarren/58009-DSAA/blob/main/Prelim_Exam.ipynb\" target=\"_parent\"><img src=\"https://colab.research.google.com/assets/colab-badge.svg\" alt=\"Open In Colab\"/></a>"
      ]
    },
    {
      "cell_type": "markdown",
      "source": [
        "Open your Python (Pycharm or Colab) or Dev C++ to create the source code for adding the test scores 26, 49, 98, 87, 62, 75 (30 points)\n",
        "Create a program to sort the test scores in ascending order (20 points)"
      ],
      "metadata": {
        "id": "cq-yUkcn5l7d"
      }
    },
    {
      "cell_type": "code",
      "source": [
        "import numpy\n",
        "\n",
        "testScores = [26, 49, 98, 87, 62, 75]\n",
        "print(\"The test scores are:\\n\", testScores)\n",
        "print(\"The test scores in ascending order are:\\n\", numpy.sort(testScores))"
      ],
      "metadata": {
        "colab": {
          "base_uri": "https://localhost:8080/"
        },
        "id": "teflLLJX5oZM",
        "outputId": "81221d67-d431-4077-aee4-34c55cda6ef6"
      },
      "execution_count": 7,
      "outputs": [
        {
          "output_type": "stream",
          "name": "stdout",
          "text": [
            "The test scores are:\n",
            " [26, 49, 98, 87, 62, 75]\n",
            "The test scores in ascending order are:\n",
            " [26 49 62 75 87 98]\n"
          ]
        }
      ]
    }
  ]
}