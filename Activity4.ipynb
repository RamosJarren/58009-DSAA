{
  "nbformat": 4,
  "nbformat_minor": 0,
  "metadata": {
    "colab": {
      "provenance": [],
      "authorship_tag": "ABX9TyO/aYsUfV/GBx4O2w5N0pcE",
      "include_colab_link": true
    },
    "kernelspec": {
      "name": "python3",
      "display_name": "Python 3"
    },
    "language_info": {
      "name": "python"
    }
  },
  "cells": [
    {
      "cell_type": "markdown",
      "metadata": {
        "id": "view-in-github",
        "colab_type": "text"
      },
      "source": [
        "<a href=\"https://colab.research.google.com/github/RamosJarren/58009-DSAA/blob/main/Activity4.ipynb\" target=\"_parent\"><img src=\"https://colab.research.google.com/assets/colab-badge.svg\" alt=\"Open In Colab\"/></a>"
      ]
    },
    {
      "cell_type": "code",
      "source": [
        "queue = []\n",
        "\n",
        "print(\"---Word Queue---\\nRemove the first word from the queue after every two newly added queue.\\n\\n\")\n",
        "print(\"Empty Queue: \", queue, \"\\n\")\n",
        "queue.append(\"anniversary\")\n",
        "queue.append(\"contradiction\")\n",
        "print(\"Current Queue: \", queue, \"\\n\")\n",
        "print(\"Removed word: \", queue.pop(0))\n",
        "\n",
        "print(\"Current Queue: \", queue, \"\\n\")\n",
        "queue.append(\"rehabilitation\")\n",
        "queue.append(\"experiment\")\n",
        "print(\"Removed word: \", queue.pop(0))\n",
        "\n",
        "print(\"Current Queue: \", queue, \"\\n\")\n",
        "queue.append(\"presidential\")\n",
        "queue.append(\"representative\")\n",
        "print(\"Removed word: \", queue.pop(0))\n",
        "\n",
        "print(\"Current Queue: \", queue, \"\\n\")\n",
        "queue.append(\"dissapointment\")\n",
        "queue.append(\"beneficiary\")\n",
        "print(\"Removed word: \", queue.pop(0))\n",
        "\n",
        "print(\"Current Queue: \", queue, \"\\n\")\n",
        "queue.append(\"preoccupation\")\n",
        "queue.append(\"ambiguous\")\n",
        "print(\"Removed word: \", queue.pop(0))\n",
        "print(\"Current Queue: \", queue, \"\\n\")\n"
      ],
      "metadata": {
        "colab": {
          "base_uri": "https://localhost:8080/"
        },
        "id": "GTdxoZv3jHBX",
        "outputId": "6361512f-6411-4c0b-b00a-26fd43c4915a"
      },
      "execution_count": 12,
      "outputs": [
        {
          "output_type": "stream",
          "name": "stdout",
          "text": [
            "---Word Queue---\n",
            "Remove the first word from the queue after every two newly added queue.\n",
            "\n",
            "\n",
            "Current Queue:  [] \n",
            "\n",
            "Current Queue:  ['anniversary', 'contradiction'] \n",
            "\n",
            "Removed word:  anniversary\n",
            "Current Queue:  ['contradiction'] \n",
            "\n",
            "Removed word:  contradiction\n",
            "Current Queue:  ['rehabilitation', 'experiment'] \n",
            "\n",
            "Removed word:  rehabilitation\n",
            "Current Queue:  ['experiment', 'presidential', 'representative'] \n",
            "\n",
            "Removed word:  experiment\n",
            "Current Queue:  ['presidential', 'representative', 'dissapointment', 'beneficiary'] \n",
            "\n",
            "Removed word:  presidential\n",
            "Current Queue:  ['representative', 'dissapointment', 'beneficiary', 'preoccupation', 'ambiguous'] \n",
            "\n"
          ]
        }
      ]
    }
  ]
}