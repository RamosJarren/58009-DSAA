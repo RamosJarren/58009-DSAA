{
  "nbformat": 4,
  "nbformat_minor": 0,
  "metadata": {
    "colab": {
      "provenance": [],
      "authorship_tag": "ABX9TyPEzaL/maJBkwmULo3QWX5K",
      "include_colab_link": true
    },
    "kernelspec": {
      "name": "python3",
      "display_name": "Python 3"
    },
    "language_info": {
      "name": "python"
    }
  },
  "cells": [
    {
      "cell_type": "markdown",
      "metadata": {
        "id": "view-in-github",
        "colab_type": "text"
      },
      "source": [
        "<a href=\"https://colab.research.google.com/github/RamosJarren/58009-DSAA/blob/main/Long_Quiz_1.ipynb\" target=\"_parent\"><img src=\"https://colab.research.google.com/assets/colab-badge.svg\" alt=\"Open In Colab\"/></a>"
      ]
    },
    {
      "cell_type": "markdown",
      "source": [
        "Create a python or C++ program that appends each character of your full name and displays each character in reverse order"
      ],
      "metadata": {
        "id": "k20Y3X165ZzE"
      }
    },
    {
      "cell_type": "code",
      "source": [
        "#As a String\n",
        "\n",
        "Name = 'Jarren Leigh Ramos'\n",
        "NameRev = ''\n",
        "\n",
        "for x in Name:\n",
        "    print(x)\n",
        "\n",
        "print(\"\\n\")\n",
        "\n",
        "for x in reversed(Name):\n",
        "    NameRev += x\n",
        "\n",
        "for x in NameRev:\n",
        "    print(x)"
      ],
      "metadata": {
        "colab": {
          "base_uri": "https://localhost:8080/"
        },
        "id": "L3gmx4ZAJTb2",
        "outputId": "2e665e93-9b74-4d78-8db1-e8d1d4d49b02"
      },
      "execution_count": 158,
      "outputs": [
        {
          "output_type": "stream",
          "name": "stdout",
          "text": [
            "J\n",
            "a\n",
            "r\n",
            "r\n",
            "e\n",
            "n\n",
            " \n",
            "L\n",
            "e\n",
            "i\n",
            "g\n",
            "h\n",
            " \n",
            "R\n",
            "a\n",
            "m\n",
            "o\n",
            "s\n",
            "\n",
            "\n",
            "s\n",
            "o\n",
            "m\n",
            "a\n",
            "R\n",
            " \n",
            "h\n",
            "g\n",
            "i\n",
            "e\n",
            "L\n",
            " \n",
            "n\n",
            "e\n",
            "r\n",
            "r\n",
            "a\n",
            "J\n"
          ]
        }
      ]
    },
    {
      "cell_type": "code",
      "execution_count": 159,
      "metadata": {
        "id": "ubXc_01Wi01z",
        "colab": {
          "base_uri": "https://localhost:8080/"
        },
        "outputId": "3123fe11-0f1b-4051-dd38-f6a185fae4e2"
      },
      "outputs": [
        {
          "output_type": "stream",
          "name": "stdout",
          "text": [
            "['J', 'A', 'R', 'R', 'E', 'N', ' ', 'L', 'E', 'I', 'G', 'H', ' ', 'R', 'A', 'M', 'O', 'S']\n",
            "['S', 'O', 'M', 'A', 'R', ' ', 'H', 'G', 'I', 'E', 'L', ' ', 'N', 'E', 'R', 'R', 'A', 'J']\n"
          ]
        }
      ],
      "source": [
        "#As an Array\n",
        "\n",
        "name = []\n",
        "name.append(\"J\")\n",
        "name.append(\"A\")\n",
        "name.append(\"R\")\n",
        "name.append(\"R\")\n",
        "name.append(\"E\")\n",
        "name.append(\"N\")\n",
        "name.append(\" \")\n",
        "name.append(\"L\")\n",
        "name.append(\"E\")\n",
        "name.append(\"I\")\n",
        "name.append(\"G\")\n",
        "name.append(\"H\")\n",
        "name.append(\" \")\n",
        "name.append(\"R\")\n",
        "name.append(\"A\")\n",
        "name.append(\"M\")\n",
        "name.append(\"O\")\n",
        "name.append(\"S\")\n",
        "\n",
        "print(name)\n",
        "name.reverse()\n",
        "print(name)\n"
      ]
    },
    {
      "cell_type": "markdown",
      "source": [
        "Using the set of positive whole numbers from 1 to 10, create a python or C++ program that displays if it is prime or composite."
      ],
      "metadata": {
        "id": "AW6ZuHd85und"
      }
    },
    {
      "cell_type": "code",
      "source": [
        "def primecomposite(x):\n",
        "  if x <= 1:\n",
        "    return False\n",
        "  if x <= 3:\n",
        "    return True\n",
        "  if x % 2 == 0 or x % 3 == 0:\n",
        "    return False\n",
        "  i = 5\n",
        "  while i * i <= x:\n",
        "    if x % i == 0 or x % (i + 2) == 0:\n",
        "      return False\n",
        "    i += 6\n",
        "  return True\n",
        "\n",
        "for num in range(1, 11):\n",
        "    if num == 1:\n",
        "      print(num, \"is neither a Prime nor Composite number.\")\n",
        "    elif primecomposite(num):\n",
        "      print(num, \"is a Prime number.\")\n",
        "    else:\n",
        "      print(num, \"is a Composite number.\")"
      ],
      "metadata": {
        "colab": {
          "base_uri": "https://localhost:8080/"
        },
        "id": "J12kDkwgCDPn",
        "outputId": "40d44ede-e346-4709-8d1c-548f6392ddbc"
      },
      "execution_count": 160,
      "outputs": [
        {
          "output_type": "stream",
          "name": "stdout",
          "text": [
            "1 is neither a Prime nor Composite number.\n",
            "2 is a Prime number.\n",
            "3 is a Prime number.\n",
            "4 is a Composite number.\n",
            "5 is a Prime number.\n",
            "6 is a Composite number.\n",
            "7 is a Prime number.\n",
            "8 is a Composite number.\n",
            "9 is a Composite number.\n",
            "10 is a Composite number.\n"
          ]
        }
      ]
    }
  ]
}