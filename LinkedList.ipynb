{
  "nbformat": 4,
  "nbformat_minor": 0,
  "metadata": {
    "colab": {
      "provenance": [],
      "authorship_tag": "ABX9TyObnC4bbdLV3Rzu8ANWVF81",
      "include_colab_link": true
    },
    "kernelspec": {
      "name": "python3",
      "display_name": "Python 3"
    },
    "language_info": {
      "name": "python"
    }
  },
  "cells": [
    {
      "cell_type": "markdown",
      "metadata": {
        "id": "view-in-github",
        "colab_type": "text"
      },
      "source": [
        "<a href=\"https://colab.research.google.com/github/RamosJarren/58009-DSAA/blob/main/LinkedList.ipynb\" target=\"_parent\"><img src=\"https://colab.research.google.com/assets/colab-badge.svg\" alt=\"Open In Colab\"/></a>"
      ]
    },
    {
      "cell_type": "markdown",
      "source": [
        "Example 1"
      ],
      "metadata": {
        "id": "z2WpncVwsq8F"
      }
    },
    {
      "cell_type": "code",
      "execution_count": 12,
      "metadata": {
        "colab": {
          "base_uri": "https://localhost:8080/"
        },
        "id": "ZU0hRWcIqb9L",
        "outputId": "5a2e74cb-ee47-4220-ce3e-f5ff1aacc411"
      },
      "outputs": [
        {
          "output_type": "stream",
          "name": "stdout",
          "text": [
            "i\n",
            "f\n"
          ]
        }
      ],
      "source": [
        "import array\n",
        "\n",
        "array.typecodes\n",
        "\n",
        "a = array.array('i', [1, 2, 3, 4, 5, 6])\n",
        "b = array.array('f', [1.5, 2.5, 3.5, 4.5, 5.5, 6.5])\n",
        "\n",
        "print(a.typecode)\n",
        "print(b.typecode)"
      ]
    },
    {
      "cell_type": "markdown",
      "source": [
        "Example 2 (Create an array of elements of float/decimal number)"
      ],
      "metadata": {
        "id": "4NSGVtexssM8"
      }
    },
    {
      "cell_type": "code",
      "source": [
        "import array\n",
        "\n",
        "arrayvar =  array.array('f', [7.5, 2.2, 3.4, 1.0, 6.5])\n",
        "\n",
        "print(arrayvar)"
      ],
      "metadata": {
        "colab": {
          "base_uri": "https://localhost:8080/"
        },
        "id": "68C06CPwsuTE",
        "outputId": "d200ce93-d1d3-4674-ac4a-8734e0bafeac"
      },
      "execution_count": 18,
      "outputs": [
        {
          "output_type": "stream",
          "name": "stdout",
          "text": [
            "array('f', [7.5, 2.200000047683716, 3.4000000953674316, 1.0, 6.5])\n"
          ]
        }
      ]
    },
    {
      "cell_type": "markdown",
      "source": [
        "What is the Output"
      ],
      "metadata": {
        "id": "QUicExncs2_k"
      }
    },
    {
      "cell_type": "code",
      "source": [
        " import array\n",
        "\n",
        " a = array.array('i',[4,5,6,7])\n",
        " a.insert(1, 2)\n",
        " print(a)\n",
        " a.insert(-1, 0)\n",
        " print(a)\n",
        " a.insert(10, -1)\n",
        " print(a)"
      ],
      "metadata": {
        "colab": {
          "base_uri": "https://localhost:8080/"
        },
        "id": "r3b98l4ss6aE",
        "outputId": "15838d38-4d36-4416-c7b5-9b4565d4429d"
      },
      "execution_count": 11,
      "outputs": [
        {
          "output_type": "stream",
          "name": "stdout",
          "text": [
            "array('i', [4, 2, 5, 6, 7])\n",
            "array('i', [4, 2, 5, 6, 0, 7])\n",
            "array('i', [4, 2, 5, 6, 0, 7, -1])\n"
          ]
        }
      ]
    },
    {
      "cell_type": "markdown",
      "source": [
        "Example 3 (Node Class) and 4 (Linked List)"
      ],
      "metadata": {
        "id": "pEqFxtwctXx0"
      }
    },
    {
      "cell_type": "code",
      "source": [
        "class Node:\n",
        "  def __init__(self, data):\n",
        "    self.data = data\n",
        "    self.next = None\n",
        "\n",
        "class LinkedList:\n",
        "  def __init__(self):\n",
        "    self.head = None\n",
        "\n",
        "if __name__=='__main__':\n",
        "  llist = LinkedList()\n",
        "\n",
        "  llist.head = Node(1)\n",
        "  second = Node(2)\n",
        "  third = Node(3)\n",
        "\n",
        "  llist.head.next = second;\n",
        "  second.next = third;"
      ],
      "metadata": {
        "id": "8alfjHkFtcPL"
      },
      "execution_count": 28,
      "outputs": []
    },
    {
      "cell_type": "markdown",
      "source": [
        "Example 5 (Print data of Linked List) Singly Linked List"
      ],
      "metadata": {
        "id": "M6Iv_ngvH1DD"
      }
    },
    {
      "cell_type": "code",
      "source": [
        "class Node:\n",
        "  def __init__(self, data):\n",
        "    self.data = data\n",
        "    self.next = None\n",
        "\n",
        "class LinkedList:\n",
        "  def __init__(self):\n",
        "    self.head = None\n",
        "\n",
        "  def printList(self):\n",
        "    temp = self.head\n",
        "    while(temp):\n",
        "      print(temp.data)\n",
        "      temp = temp.next\n",
        "\n",
        "if __name__=='__main__':\n",
        "  llist = LinkedList()\n",
        "\n",
        "  llist.head = Node(1)\n",
        "  second = Node(2)\n",
        "  third = Node(3)\n",
        "  fourth = Node(4)\n",
        "  fifth = Node(5)\n",
        "\n",
        "  llist.head.next = second;\n",
        "  second.next = third;\n",
        "  third.next = fourth;\n",
        "  fourth.next = fifth;\n",
        "\n",
        "llist.printList()"
      ],
      "metadata": {
        "colab": {
          "base_uri": "https://localhost:8080/"
        },
        "id": "EZNPmKhzH7Tq",
        "outputId": "34144f69-bbbc-4ac5-c1c5-9298749c3298"
      },
      "execution_count": 39,
      "outputs": [
        {
          "output_type": "stream",
          "name": "stdout",
          "text": [
            "1\n",
            "2\n",
            "3\n",
            "4\n",
            "5\n"
          ]
        }
      ]
    },
    {
      "cell_type": "markdown",
      "source": [
        "Example 5 (Print data of Linked List) Doubly Linked List"
      ],
      "metadata": {
        "id": "CgUhB1CgvSc_"
      }
    },
    {
      "cell_type": "code",
      "source": [
        "class Node:\n",
        "  def __init__(self, data):\n",
        "    self.data = data\n",
        "    self.next = None\n",
        "    self.previous = None\n",
        "\n",
        "class LinkedList:\n",
        "  def __init__(self):\n",
        "    self.head = None\n",
        "    self.tail = None\n",
        "\n",
        "  def printList(self):\n",
        "    temp = self.head\n",
        "    while(temp):\n",
        "      print(temp.data)\n",
        "      temp = temp.next\n",
        "\n",
        "  def printReverse(self):\n",
        "    temp = self.tail\n",
        "    while(temp):\n",
        "      print(temp.data)\n",
        "      temp = temp.previous\n",
        "\n",
        "if __name__=='__main__':\n",
        "  llist = LinkedList()\n",
        "\n",
        "  llist.head = Node(1)\n",
        "  second = Node(2)\n",
        "  third = Node(3)\n",
        "  fourth = Node(4)\n",
        "  llist.tail = Node(5)\n",
        "\n",
        "  llist.head.next = second;\n",
        "  second.next = third;\n",
        "  third.next = fourth;\n",
        "  fourth.next = llist.tail;\n",
        "\n",
        "  llist.tail.previous = fourth;\n",
        "  fourth.previous = third;\n",
        "  third.previous = second;\n",
        "  second.previous = llist.head;\n",
        "\n",
        "llist.printList()\n",
        "llist.printReverse()"
      ],
      "metadata": {
        "colab": {
          "base_uri": "https://localhost:8080/"
        },
        "id": "cdQR-6k7vWxe",
        "outputId": "5e501f91-01dc-4540-b4eb-3d40d112fda2"
      },
      "execution_count": 38,
      "outputs": [
        {
          "output_type": "stream",
          "name": "stdout",
          "text": [
            "1\n",
            "2\n",
            "3\n",
            "4\n",
            "5\n",
            "5\n",
            "4\n",
            "3\n",
            "2\n",
            "1\n"
          ]
        }
      ]
    }
  ]
}