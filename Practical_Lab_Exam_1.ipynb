{
  "nbformat": 4,
  "nbformat_minor": 0,
  "metadata": {
    "colab": {
      "provenance": [],
      "authorship_tag": "ABX9TyM3sohctP5t4ssZ8W3DxLfk",
      "include_colab_link": true
    },
    "kernelspec": {
      "name": "python3",
      "display_name": "Python 3"
    },
    "language_info": {
      "name": "python"
    }
  },
  "cells": [
    {
      "cell_type": "markdown",
      "metadata": {
        "id": "view-in-github",
        "colab_type": "text"
      },
      "source": [
        "<a href=\"https://colab.research.google.com/github/RamosJarren/58009-DSAA/blob/main/Practical_Lab_Exam_1.ipynb\" target=\"_parent\"><img src=\"https://colab.research.google.com/assets/colab-badge.svg\" alt=\"Open In Colab\"/></a>"
      ]
    },
    {
      "cell_type": "markdown",
      "source": [
        "Design an algorithm and the corresponding flowchart for adding the test scores as given below if the number is odd: 26,49,98,87,62,75"
      ],
      "metadata": {
        "id": "3sA9k1deVjkB"
      }
    },
    {
      "cell_type": "code",
      "execution_count": 39,
      "metadata": {
        "id": "gIPOVtv0L8z1",
        "colab": {
          "base_uri": "https://localhost:8080/"
        },
        "outputId": "97ab30a9-0e31-406b-cd28-3f7d229711cc"
      },
      "outputs": [
        {
          "output_type": "stream",
          "name": "stdout",
          "text": [
            "\n",
            "Array: \n",
            "26 49 98 87 62 75 \n",
            "Odd Numbers in Array: \n",
            "49 87 75 \n",
            "Summation of Odd Numbers: \n",
            "211\n"
          ]
        }
      ],
      "source": [
        "import array as groupdata\n",
        "\n",
        "scores = [26, 49, 98, 87, 62, 75]\n",
        "\n",
        "var = groupdata.array('i', scores )\n",
        "print(\"Array: \")\n",
        "for i in (var):\n",
        "  print(i, end = \" \")\n",
        "\n",
        "print(\"\\nOdd Numbers in Array: \")\n",
        "for i in scores:\n",
        "  if i % 2 == 0:\n",
        "    pass\n",
        "  else:\n",
        "    print(i, end = \" \")\n",
        "\n",
        "print(\"\\nSummation of Odd Numbers: \")\n",
        "def odd_num(scores):\n",
        "  return sum([i for i in scores if i % 2 == 1])\n",
        "scores = [26, 49, 98, 87, 62, 75]\n",
        "print(odd_num(scores))\n"
      ]
    }
  ]
}