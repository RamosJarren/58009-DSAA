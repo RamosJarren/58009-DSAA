{
  "nbformat": 4,
  "nbformat_minor": 0,
  "metadata": {
    "colab": {
      "provenance": [],
      "authorship_tag": "ABX9TyOHVJxMK8P/ne6k77Ar9GPK",
      "include_colab_link": true
    },
    "kernelspec": {
      "name": "python3",
      "display_name": "Python 3"
    },
    "language_info": {
      "name": "python"
    }
  },
  "cells": [
    {
      "cell_type": "markdown",
      "metadata": {
        "id": "view-in-github",
        "colab_type": "text"
      },
      "source": [
        "<a href=\"https://colab.research.google.com/github/RamosJarren/58009-DSAA/blob/main/Long_Quiz_2.ipynb\" target=\"_parent\"><img src=\"https://colab.research.google.com/assets/colab-badge.svg\" alt=\"Open In Colab\"/></a>"
      ]
    },
    {
      "cell_type": "code",
      "source": [
        "\n",
        "class graph:\n",
        "  def __init__(self,gdict=None):\n",
        "    if gdict is None:\n",
        "      gdict = {}\n",
        "    self.gdict = gdict\n",
        "  def edges(self):\n",
        "    return self.findedges()\n",
        "  def findedges(self):\n",
        "    edgename = []\n",
        "    for vrtx in self.gdict:\n",
        "      for nxtvrtx in self.gdict[vrtx]:\n",
        "        if {nxtvrtx, vrtx} not in edgename:\n",
        "          edgename.append({vrtx, nxtvrtx})\n",
        "    return edgename\n",
        "  def getVertices(self):\n",
        "    return list(self.gdict.keys())\n",
        "\n",
        "graph_elements = {\n",
        "   \"e\" : [\"i\", \"j\", \"k\", \"m\"],\n",
        "   \"f\" : [\"i\", \"j\", \"k\", \"p\"],\n",
        "   \"h\" : [\"i\", \"j\", \"k\"],\n",
        "   \"i\" : [\"e\", \"f\", \"h\"],\n",
        "   \"j\" : [\"e\", \"f\", \"h\"],\n",
        "   \"k\" : [\"e\", \"f\", \"h\"],\n",
        "   \"m\" : [\"e\"],\n",
        "   \"p\" : [\"f\"]\n",
        "}\n",
        "\n",
        "gvert = graph(graph_elements)\n",
        "print(\"Vertices: \", gvert.getVertices())\n",
        "gedge = graph(graph_elements)\n",
        "print(\"Edges: \", gedge.edges())\n",
        "\n",
        ""
      ],
      "metadata": {
        "colab": {
          "base_uri": "https://localhost:8080/"
        },
        "id": "p15TE31A0xiF",
        "outputId": "61be939f-1da5-4dae-f85a-367064bc53a1"
      },
      "execution_count": 7,
      "outputs": [
        {
          "output_type": "stream",
          "name": "stdout",
          "text": [
            "Vertices:  ['e', 'f', 'h', 'i', 'j', 'k', 'm', 'p']\n",
            "Edges:  [{'i', 'e'}, {'j', 'e'}, {'k', 'e'}, {'m', 'e'}, {'i', 'f'}, {'j', 'f'}, {'f', 'k'}, {'p', 'f'}, {'h', 'i'}, {'h', 'j'}, {'h', 'k'}]\n"
          ]
        }
      ]
    }
  ]
}