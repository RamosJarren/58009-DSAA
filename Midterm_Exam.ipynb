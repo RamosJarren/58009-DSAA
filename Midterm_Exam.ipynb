{
  "nbformat": 4,
  "nbformat_minor": 0,
  "metadata": {
    "colab": {
      "provenance": [],
      "authorship_tag": "ABX9TyPiV4tql+dU4AKr3oiAF05F",
      "include_colab_link": true
    },
    "kernelspec": {
      "name": "python3",
      "display_name": "Python 3"
    },
    "language_info": {
      "name": "python"
    }
  },
  "cells": [
    {
      "cell_type": "markdown",
      "metadata": {
        "id": "view-in-github",
        "colab_type": "text"
      },
      "source": [
        "<a href=\"https://colab.research.google.com/github/RamosJarren/58009-DSAA/blob/main/Midterm_Exam.ipynb\" target=\"_parent\"><img src=\"https://colab.research.google.com/assets/colab-badge.svg\" alt=\"Open In Colab\"/></a>"
      ]
    },
    {
      "cell_type": "markdown",
      "source": [
        "All pertinent solutions must be uploaded together with the link of your GitHub. Name your python file as midterm_exam\n",
        "Implement the graph using Python dictionaries. This must display all the vertices and edges of the graph."
      ],
      "metadata": {
        "id": "-aXeaMhTR3dz"
      }
    },
    {
      "cell_type": "code",
      "execution_count": 1,
      "metadata": {
        "colab": {
          "base_uri": "https://localhost:8080/"
        },
        "id": "wFJmHNhGR2wX",
        "outputId": "1817101a-737b-45e4-cf71-d24a849f1107"
      },
      "outputs": [
        {
          "output_type": "stream",
          "name": "stdout",
          "text": [
            "The Edges of Graph 29 are:  [{'A', 'B, 11'}, {'A, 11', 'B'}, {'C, 1', 'B'}, {'E, 42', 'B'}, {'F, 90', 'B'}, {'C', 'B, 1'}, {'C', 'D, 14'}, {'E, 42', 'C'}, {'F, 21', 'C'}, {'I, 22', 'C'}, {'C', 'M, 8'}, {'D', 'C, 14'}, {'D', 'K, 13'}, {'L, 6', 'D'}, {'E', 'B, 85'}, {'E', 'C, 42'}, {'E', 'N, 35'}, {'F', 'B, 90'}, {'F', 'C, 21'}, {'F', 'G, 10'}, {'F', 'I, 9'}, {'F, 10', 'G'}, {'I, 5', 'G'}, {'J, 16', 'G'}, {'C, 22', 'I'}, {'F, 9', 'I'}, {'G, 5', 'I'}, {'J, 27', 'I'}, {'I', 'K, 99'}, {'J', 'G, 16'}, {'J', 'I, 27'}, {'J', 'K, 32'}, {'K', 'D, 13'}, {'K', 'I, 99'}, {'K', 'J, 32'}, {'D, 6', 'L'}, {'L', 'M, 60'}, {'P, 51', 'L'}, {'C, 8', 'M'}, {'L, 60', 'M'}, {'N, 1', 'M'}, {'M', 'O, 17'}, {'P, 40', 'M'}, {'E, 35', 'N'}, {'M, 1', 'N'}, {'O, 50', 'N'}, {'O', 'M, 17'}, {'O', 'N, 50'}, {'O', 'P, 52'}, {'M, 40', 'P'}, {'O, 52', 'P'}]\n",
            "The Vertices of Graph 29 are:  ['A', 'B', 'C', 'D', 'E', 'F', 'G', 'I', 'J', 'K', 'L', 'M', 'N', 'O', 'P']\n"
          ]
        }
      ],
      "source": [
        "class graphs:\n",
        "  def __init__(self, graphdict = None):\n",
        "    if graphdict is None:\n",
        "      graphdict = {}\n",
        "    self.graphdict = graphdict\n",
        "  def searchVertices(self):\n",
        "    return list(self.graphdict.keys())\n",
        "  def searchEdges(self):\n",
        "    edgename = []\n",
        "    for vert in self.graphdict:\n",
        "      for nextvert in self.graphdict[vert]:\n",
        "        if {nextvert, vert} not in edgename:\n",
        "          edgename.append({vert, nextvert})\n",
        "    return edgename\n",
        "\n",
        "graphData = {\n",
        "    \"A\" : [\"B, 11\"],\n",
        "    \"B\" : [\"A, 11\", \"C, 1\", \"E, 42\", \"F, 90\"],\n",
        "    \"C\" : [\"B, 1\", \"D, 14\", \"E, 42\", \"F, 21\", \"I, 22\", \"M, 8\"],\n",
        "    \"D\" : [\"C, 14\", \"K, 13\", \"L, 6\"],\n",
        "    \"E\" : [\"B, 85\", \"C, 42\", \"N, 35\"],\n",
        "    \"F\" : [\"B, 90\", \"C, 21\", \"G, 10\", \"I, 9\"],\n",
        "    \"G\" : [\"F, 10\", \"I, 5\", \"J, 16\"],\n",
        "    \"I\" : [\"C, 22\", \"F, 9\", \"G, 5\", \"J, 27\", \"K, 99\"],\n",
        "    \"J\" : [\"G, 16\", \"I, 27\", \"K, 32\"],\n",
        "    \"K\" : [\"D, 13\", \"I, 99\", \"J, 32\"],\n",
        "    \"L\" : [\"D, 6\", \"M, 60\", \"P, 51\"],\n",
        "    \"M\" : [\"C, 8\", \"L, 60\", \"N, 1\", \"O, 17\", \"P, 40\"],\n",
        "    \"N\" : [\"E, 35\", \"M, 1\", \"O, 50\"],\n",
        "    \"O\" : [\"M, 17\", \"N, 50\", \"P, 52\"],\n",
        "    \"P\" : [\"M, 40\", \"O, 52\"]\n",
        "}\n",
        "g29 = graphs(graphData)\n",
        "print(\"The Edges of Graph 29 are: \", g29.searchEdges())\n",
        "print(\"The Vertices of Graph 29 are: \", g29.searchVertices())"
      ]
    }
  ]
}